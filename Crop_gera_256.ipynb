{
 "cells": [
  {
   "cell_type": "code",
   "execution_count": 1,
   "metadata": {},
   "outputs": [],
   "source": [
    "import numpy as np\n",
    "from PIL import Image\n",
    "from PIL import ImageOps\n",
    "import cv2\n",
    "import os, os.path\n"
   ]
  },
  {
   "cell_type": "code",
   "execution_count": 14,
   "metadata": {},
   "outputs": [],
   "source": [
    "# Faz um primeiro crop, para tirar as bordas da janela para o dado A\n",
    "imgs = []\n",
    "path = \"./kirchhoff2rtm/Kirchhoff/\"\n",
    "x1=156\n",
    "y1=141\n",
    "x2=1797\n",
    "y2=1080\n",
    "borda=(x1,y1,x2,y2)\n",
    "valid_images = [\".jpg\",\".gif\",\".png\",\".tga\"]\n",
    "dire=os.listdir(path)\n",
    "dire.sort()\n",
    "for filename in dire:\n",
    "    ext = os.path.splitext(filename)[1]   \n",
    "    if ext.lower() in valid_images:\n",
    "        img= Image.open(path+filename)\n",
    "        fatia = img.crop(borda)\n",
    "        fatia.save('./kirchhoff2rtm/Kirchhoff/crop/crop_'+filename)"
   ]
  },
  {
   "cell_type": "code",
   "execution_count": 19,
   "metadata": {},
   "outputs": [],
   "source": [
    "# Faz um primeiro crop, para tirar as bordas da janela para o dado B\n",
    "imgs = []\n",
    "path = \"./kirchhoff2rtm/RTM/\"\n",
    "x1=156\n",
    "y1=141\n",
    "x2=1797\n",
    "y2=1080\n",
    "borda=(x1,y1,x2,y2)\n",
    "valid_images = [\".jpg\",\".gif\",\".png\",\".tga\"]\n",
    "dire=os.listdir(path)\n",
    "dire.sort()\n",
    "for filename in dire:\n",
    "    ext = os.path.splitext(filename)[1]   \n",
    "    if ext.lower() in valid_images:\n",
    "        img= Image.open(path+filename)\n",
    "        fatia = img.crop(borda)\n",
    "        fatia.save('./kirchhoff2rtm/RTM/crop/crop_'+filename)"
   ]
  },
  {
   "cell_type": "code",
   "execution_count": 23,
   "metadata": {},
   "outputs": [],
   "source": [
    "# Cria as entradas com tamanho de 256 por 256\n",
    "path = \"./kirchhoff2rtm/Kirchhoff/crop/\"\n",
    "valid_images = [\".jpg\",\".gif\",\".png\",\".tga\"]\n",
    "a=0\n",
    "dire=os.listdir(path)\n",
    "dire.sort()\n",
    "for filename in dire:\n",
    "    ext = os.path.splitext(filename)[1] \n",
    "    if ext.lower() in valid_images:\n",
    "        img= Image.open(path+filename)\n",
    "        s=img.size\n",
    "    v0=0\n",
    "    v1=256\n",
    "    for v in range(s[1]//256):\n",
    "        h0=0\n",
    "        h1=256\n",
    "        for h in range(s[0]//256):\n",
    "            a+=1\n",
    "            crop_name=\"./kirchhoff2rtm/Kirchhoff/crop/A/\"+str(a)+\".png\" \n",
    "            janela=(h0,v0,h1,v1)\n",
    "            crop256=img.crop(janela)\n",
    "            crop256.save(crop_name)\n",
    "            h0+=256\n",
    "            h1+=256\n",
    "        v1+=256\n",
    "        v0+=256"
   ]
  },
  {
   "cell_type": "code",
   "execution_count": 24,
   "metadata": {},
   "outputs": [],
   "source": [
    "# Cria as entradas com tamanho de 256 por 256\n",
    "path = \"./kirchhoff2rtm/RTM/crop/\"\n",
    "valid_images = [\".jpg\",\".gif\",\".png\",\".tga\"]\n",
    "a=0\n",
    "dire=os.listdir(path)\n",
    "dire.sort()\n",
    "for filename in dire:\n",
    "    ext = os.path.splitext(filename)[1] \n",
    "    if ext.lower() in valid_images:\n",
    "        img= Image.open(path+filename)\n",
    "        s=img.size\n",
    "    v0=0\n",
    "    v1=256\n",
    "    for v in range(s[1]//256):\n",
    "        h0=0\n",
    "        h1=256\n",
    "        for h in range(s[0]//256):\n",
    "            a+=1\n",
    "            crop_name=\"./kirchhoff2rtm/RTM/crop/B/\"+str(a)+\".png\" \n",
    "            janela=(h0,v0,h1,v1)\n",
    "            crop256=img.crop(janela)\n",
    "            crop256.save(crop_name)\n",
    "            h0+=256\n",
    "            h1+=256\n",
    "        v1+=256\n",
    "        v0+=256"
   ]
  },
  {
   "cell_type": "code",
   "execution_count": 13,
   "metadata": {},
   "outputs": [],
   "source": [
    "# imgs = []\n",
    "# pathA = \"./kirchhoff2rtm/Kirchhoff/crop/A/\"\n",
    "# pathB = \"./kirchhoff2rtm/RTM/crop/B/\"\n",
    "# pathC = \"./kirchhoff2rtm/train/\"\n",
    "# valid_images = [\".jpg\",\".gif\",\".png\",\".tga\"]\n",
    "# for filename in os.listdir(pathA):\n",
    "#     ext = os.path.splitext(filename)[1]   \n",
    "#     if ext.lower() in valid_images:\n",
    "#         imgA=cv2.imread(pathA+filename)\n",
    "#         imgB=cv2.imread(pathB+filename)\n",
    "#         imgAB = np.concatenate([imgA, imgB],1)\n",
    "#         cv2.imwrite(pathC+filename, imgAB) \n",
    "#         cv2.waitKey(0)\n",
    "#       Não funcionou   \n",
    "    "
   ]
  },
  {
   "cell_type": "code",
   "execution_count": null,
   "metadata": {},
   "outputs": [],
   "source": [
    "for d in range(1, 667):\n",
    "\n",
    "    filenameA = \"./kirchhoff2rtm/Kirchhoff/crop/A/%d.png\"%d\n",
    "    imgA=cv2.imread(filenameA) \n",
    "    filenameB = \"./kirchhoff2rtm/RTM/crop/B/%d.png\"%d\n",
    "    imgB=cv2.imread(filenameB) \n",
    "    filenameout = \"./kirchhoff2rtm/train/%d.png\"%d\n",
    "    imgAB = np.concatenate([imgA, imgB],1)\n",
    "    cv2.imwrite(filenameout, imgAB) \n",
    "    cv2.waitKey(0)"
   ]
  },
  {
   "cell_type": "code",
   "execution_count": null,
   "metadata": {},
   "outputs": [],
   "source": []
  }
 ],
 "metadata": {
  "kernelspec": {
   "display_name": "Python 3",
   "language": "python",
   "name": "python3"
  },
  "language_info": {
   "codemirror_mode": {
    "name": "ipython",
    "version": 3
   },
   "file_extension": ".py",
   "mimetype": "text/x-python",
   "name": "python",
   "nbconvert_exporter": "python",
   "pygments_lexer": "ipython3",
   "version": "3.5.6"
  }
 },
 "nbformat": 4,
 "nbformat_minor": 2
}
