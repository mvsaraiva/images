{
 "cells": [
  {
   "cell_type": "code",
   "execution_count": 91,
   "metadata": {},
   "outputs": [],
   "source": [
    "import numpy as np\n",
    "from PIL import Image\n",
    "from PIL import ImageOps\n",
    "import os, os.path\n",
    "imgs = []\n",
    "path = \"./entrada/\"\n",
    "x1=63\n",
    "y1=100\n",
    "x2=1833\n",
    "y2=1094\n",
    "borda=(x1,y1,x2,y2)#(165,1067,65,1319)\n",
    "valid_images = [\".jpg\",\".gif\",\".png\",\".tga\"]\n",
    "for filename in os.listdir(path):\n",
    "    ext = os.path.splitext(filename)[1]   \n",
    "    if ext.lower() in valid_images:\n",
    "        img= Image.open(path+filename)\n",
    "        fatia = img.crop(borda) #img[y:y+h,x:x+h]\n",
    "        fatia.save('./saida/crop_'+filename)\n",
    "    \n",
    "    \n",
    "\n",
    "    "
   ]
  }
 ],
 "metadata": {
  "kernelspec": {
   "display_name": "Python 3",
   "language": "python",
   "name": "python3"
  },
  "language_info": {
   "codemirror_mode": {
    "name": "ipython",
    "version": 3
   },
   "file_extension": ".py",
   "mimetype": "text/x-python",
   "name": "python",
   "nbconvert_exporter": "python",
   "pygments_lexer": "ipython3",
   "version": "3.6.7"
  }
 },
 "nbformat": 4,
 "nbformat_minor": 2
}
