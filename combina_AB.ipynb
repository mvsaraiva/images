{
 "cells": [
  {
   "cell_type": "code",
   "execution_count": null,
   "metadata": {},
   "outputs": [],
   "source": [
    "import numpy as np\n",
    "import cv2"
   ]
  },
  {
   "cell_type": "code",
   "execution_count": null,
   "metadata": {},
   "outputs": [],
   "source": [
    "for d in range(1, 265):\n",
    "\n",
    "    filenameA = \"./CNN/semblance/A/%d.jpeg\"%d\n",
    "    imgA=cv2.imread(filenameA) \n",
    "    filenameB = \"./CNN/semblance/B/%d.jpeg\"%d\n",
    "    imgB=cv2.imread(filenameB) \n",
    "    filenameout = \"./CNN/semblance/AB/%d.png\"%d\n",
    "    imgAB = np.concatenate([imgA, imgB],1)\n",
    "    cv2.imwrite(filenameout, imgAB) \n",
    "    cv2.waitKey(0)"
   ]
  }
 ],
 "metadata": {
  "kernelspec": {
   "display_name": "Python 3",
   "language": "python",
   "name": "python3"
  },
  "language_info": {
   "codemirror_mode": {
    "name": "ipython",
    "version": 3
   },
   "file_extension": ".py",
   "mimetype": "text/x-python",
   "name": "python",
   "nbconvert_exporter": "python",
   "pygments_lexer": "ipython3",
   "version": "3.5.6"
  }
 },
 "nbformat": 4,
 "nbformat_minor": 2
}
