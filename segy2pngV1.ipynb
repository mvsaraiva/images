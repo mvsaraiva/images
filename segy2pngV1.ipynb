{
 "cells": [
  {
   "cell_type": "code",
   "execution_count": 7,
   "metadata": {},
   "outputs": [
    {
     "name": "stdout",
     "output_type": "stream",
     "text": [
      "Using matplotlib backend: Qt5Agg\n"
     ]
    }
   ],
   "source": [
    "import numpy as np\n",
    "import matplotlib.pyplot as plt\n",
    "import matplotlib.image as mpimg\n",
    "import cv2\n",
    "import segyio\n",
    "from scipy import ndimage\n",
    "from random import randint\n",
    "%matplotlib"
   ]
  },
  {
   "cell_type": "code",
   "execution_count": 15,
   "metadata": {},
   "outputs": [],
   "source": [
    "plt.rcParams['figure.figsize'] = (2.56, 2.56)\n",
    "plt.rcParams['figure.dpi'] = 129.95\n"
   ]
  },
  {
   "cell_type": "code",
   "execution_count": 11,
   "metadata": {
    "scrolled": true
   },
   "outputs": [
    {
     "name": "stdout",
     "output_type": "stream",
     "text": [
      "_internal.classic_mode: False\n",
      "agg.path.chunksize: 0\n",
      "animation.avconv_args: []\n",
      "animation.avconv_path: avconv\n",
      "animation.bitrate: -1\n",
      "animation.codec: h264\n",
      "animation.convert_args: []\n",
      "animation.convert_path: convert\n",
      "animation.embed_limit: 20.0\n",
      "animation.ffmpeg_args: []\n",
      "animation.ffmpeg_path: ffmpeg\n",
      "animation.frame_format: png\n",
      "animation.html: none\n",
      "animation.html_args: []\n",
      "animation.writer: ffmpeg\n",
      "axes.autolimit_mode: data\n",
      "axes.axisbelow: line\n",
      "axes.edgecolor: black\n",
      "axes.facecolor: white\n",
      "axes.formatter.limits: [-7, 7]\n",
      "axes.formatter.min_exponent: 0\n",
      "axes.formatter.offset_threshold: 4\n",
      "axes.formatter.use_locale: False\n",
      "axes.formatter.use_mathtext: False\n",
      "axes.formatter.useoffset: True\n",
      "axes.grid: False\n",
      "axes.grid.axis: both\n",
      "axes.grid.which: major\n",
      "axes.labelcolor: black\n",
      "axes.labelpad: 4.0\n",
      "axes.labelsize: medium\n",
      "axes.labelweight: normal\n",
      "axes.linewidth: 0.8\n",
      "axes.prop_cycle: cycler('color', ['#1f77b4', '#ff7f0e', '#2ca02c', '#d62728', '#9467bd', '#8c564b', '#e377c2', '#7f7f7f', '#bcbd22', '#17becf'])\n",
      "axes.spines.bottom: True\n",
      "axes.spines.left: True\n",
      "axes.spines.right: True\n",
      "axes.spines.top: True\n",
      "axes.titlepad: 6.0\n",
      "axes.titlesize: large\n",
      "axes.titleweight: normal\n",
      "axes.unicode_minus: True\n",
      "axes.xmargin: 0.05\n",
      "axes.ymargin: 0.05\n",
      "axes3d.grid: True\n",
      "backend: Qt5Agg\n",
      "backend_fallback: True\n",
      "boxplot.bootstrap: None\n",
      "boxplot.boxprops.color: black\n",
      "boxplot.boxprops.linestyle: -\n",
      "boxplot.boxprops.linewidth: 1.0\n",
      "boxplot.capprops.color: black\n",
      "boxplot.capprops.linestyle: -\n",
      "boxplot.capprops.linewidth: 1.0\n",
      "boxplot.flierprops.color: black\n",
      "boxplot.flierprops.linestyle: none\n",
      "boxplot.flierprops.linewidth: 1.0\n",
      "boxplot.flierprops.marker: o\n",
      "boxplot.flierprops.markeredgecolor: black\n",
      "boxplot.flierprops.markeredgewidth: 1.0\n",
      "boxplot.flierprops.markerfacecolor: none\n",
      "boxplot.flierprops.markersize: 6.0\n",
      "boxplot.meanline: False\n",
      "boxplot.meanprops.color: C2\n",
      "boxplot.meanprops.linestyle: --\n",
      "boxplot.meanprops.linewidth: 1.0\n",
      "boxplot.meanprops.marker: ^\n",
      "boxplot.meanprops.markeredgecolor: C2\n",
      "boxplot.meanprops.markerfacecolor: C2\n",
      "boxplot.meanprops.markersize: 6.0\n",
      "boxplot.medianprops.color: C1\n",
      "boxplot.medianprops.linestyle: -\n",
      "boxplot.medianprops.linewidth: 1.0\n",
      "boxplot.notch: False\n",
      "boxplot.patchartist: False\n",
      "boxplot.showbox: True\n",
      "boxplot.showcaps: True\n",
      "boxplot.showfliers: True\n",
      "boxplot.showmeans: False\n",
      "boxplot.vertical: True\n",
      "boxplot.whiskerprops.color: black\n",
      "boxplot.whiskerprops.linestyle: -\n",
      "boxplot.whiskerprops.linewidth: 1.0\n",
      "boxplot.whiskers: 1.5\n",
      "contour.corner_mask: True\n",
      "contour.negative_linestyle: dashed\n",
      "datapath: C:\\Users\\Marcus\\Anaconda3\\envs\\ptorch\\lib\\site-packages\\matplotlib\\mpl-data\n",
      "date.autoformatter.day: %Y-%m-%d\n",
      "date.autoformatter.hour: %m-%d %H\n",
      "date.autoformatter.microsecond: %M:%S.%f\n",
      "date.autoformatter.minute: %d %H:%M\n",
      "date.autoformatter.month: %Y-%m\n",
      "date.autoformatter.second: %H:%M:%S\n",
      "date.autoformatter.year: %Y\n",
      "docstring.hardcopy: False\n",
      "errorbar.capsize: 0.0\n",
      "examples.directory: \n",
      "figure.autolayout: False\n",
      "figure.constrained_layout.h_pad: 0.04167\n",
      "figure.constrained_layout.hspace: 0.02\n",
      "figure.constrained_layout.use: False\n",
      "figure.constrained_layout.w_pad: 0.04167\n",
      "figure.constrained_layout.wspace: 0.02\n",
      "figure.dpi: 132.5\n",
      "figure.edgecolor: white\n",
      "figure.facecolor: white\n",
      "figure.figsize: [2.56, 2.56]\n",
      "figure.frameon: True\n",
      "figure.max_open_warning: 20\n",
      "figure.subplot.bottom: 0.11\n",
      "figure.subplot.hspace: 0.2\n",
      "figure.subplot.left: 0.125\n",
      "figure.subplot.right: 0.9\n",
      "figure.subplot.top: 0.88\n",
      "figure.subplot.wspace: 0.2\n",
      "figure.titlesize: large\n",
      "figure.titleweight: normal\n",
      "font.cursive: ['Apple Chancery', 'Textile', 'Zapf Chancery', 'Sand', 'Script MT', 'Felipa', 'cursive']\n",
      "font.family: ['sans-serif']\n",
      "font.fantasy: ['Comic Sans MS', 'Chicago', 'Charcoal', 'Impact', 'Western', 'Humor Sans', 'xkcd', 'fantasy']\n",
      "font.monospace: ['DejaVu Sans Mono', 'Bitstream Vera Sans Mono', 'Computer Modern Typewriter', 'Andale Mono', 'Nimbus Mono L', 'Courier New', 'Courier', 'Fixed', 'Terminal', 'monospace']\n",
      "font.sans-serif: ['DejaVu Sans', 'Bitstream Vera Sans', 'Computer Modern Sans Serif', 'Lucida Grande', 'Verdana', 'Geneva', 'Lucid', 'Arial', 'Helvetica', 'Avant Garde', 'sans-serif']\n",
      "font.serif: ['DejaVu Serif', 'Bitstream Vera Serif', 'Computer Modern Roman', 'New Century Schoolbook', 'Century Schoolbook L', 'Utopia', 'ITC Bookman', 'Bookman', 'Nimbus Roman No9 L', 'Times New Roman', 'Times', 'Palatino', 'Charter', 'serif']\n",
      "font.size: 10.0\n",
      "font.stretch: normal\n",
      "font.style: normal\n",
      "font.variant: normal\n",
      "font.weight: normal\n",
      "grid.alpha: 1.0\n",
      "grid.color: #b0b0b0\n",
      "grid.linestyle: -\n",
      "grid.linewidth: 0.8\n",
      "hatch.color: black\n",
      "hatch.linewidth: 1.0\n",
      "hist.bins: 10\n",
      "image.aspect: equal\n",
      "image.cmap: viridis\n",
      "image.composite_image: True\n",
      "image.interpolation: nearest\n",
      "image.lut: 256\n",
      "image.origin: upper\n",
      "image.resample: True\n",
      "interactive: True\n",
      "keymap.all_axes: ['a']\n",
      "keymap.back: ['left', 'c', 'backspace', 'MouseButton.BACK']\n",
      "keymap.copy: ['ctrl+c', 'cmd+c']\n",
      "keymap.forward: ['right', 'v', 'MouseButton.FORWARD']\n",
      "keymap.fullscreen: ['f', 'ctrl+f']\n",
      "keymap.grid: ['g']\n",
      "keymap.grid_minor: ['G']\n",
      "keymap.help: ['f1']\n",
      "keymap.home: ['h', 'r', 'home']\n",
      "keymap.pan: ['p']\n",
      "keymap.quit: ['ctrl+w', 'cmd+w', 'q']\n",
      "keymap.quit_all: ['W', 'cmd+W', 'Q']\n",
      "keymap.save: ['s', 'ctrl+s']\n",
      "keymap.xscale: ['k', 'L']\n",
      "keymap.yscale: ['l']\n",
      "keymap.zoom: ['o']\n",
      "legend.borderaxespad: 0.5\n",
      "legend.borderpad: 0.4\n",
      "legend.columnspacing: 2.0\n",
      "legend.edgecolor: 0.8\n",
      "legend.facecolor: inherit\n",
      "legend.fancybox: True\n",
      "legend.fontsize: medium\n",
      "legend.framealpha: 0.8\n",
      "legend.frameon: True\n",
      "legend.handleheight: 0.7\n",
      "legend.handlelength: 2.0\n",
      "legend.handletextpad: 0.8\n",
      "legend.labelspacing: 0.5\n",
      "legend.loc: best\n",
      "legend.markerscale: 1.0\n",
      "legend.numpoints: 1\n",
      "legend.scatterpoints: 1\n",
      "legend.shadow: False\n",
      "legend.title_fontsize: None\n",
      "lines.antialiased: True\n",
      "lines.color: C0\n",
      "lines.dash_capstyle: butt\n",
      "lines.dash_joinstyle: round\n",
      "lines.dashdot_pattern: [6.4, 1.6, 1.0, 1.6]\n",
      "lines.dashed_pattern: [3.7, 1.6]\n",
      "lines.dotted_pattern: [1.0, 1.65]\n",
      "lines.linestyle: -\n",
      "lines.linewidth: 1.5\n",
      "lines.marker: None\n",
      "lines.markeredgecolor: auto\n",
      "lines.markeredgewidth: 1.0\n",
      "lines.markerfacecolor: auto\n",
      "lines.markersize: 6.0\n",
      "lines.scale_dashes: True\n",
      "lines.solid_capstyle: projecting\n",
      "lines.solid_joinstyle: round\n",
      "markers.fillstyle: full\n",
      "mathtext.bf: sans:bold\n",
      "mathtext.cal: cursive\n",
      "mathtext.default: it\n",
      "mathtext.fallback_to_cm: True\n",
      "mathtext.fontset: dejavusans\n",
      "mathtext.it: sans:italic\n",
      "mathtext.rm: sans\n",
      "mathtext.sf: sans\n",
      "mathtext.tt: monospace\n",
      "patch.antialiased: True\n",
      "patch.edgecolor: black\n",
      "patch.facecolor: C0\n",
      "patch.force_edgecolor: False\n",
      "patch.linewidth: 1.0\n",
      "path.effects: []\n",
      "path.simplify: True\n",
      "path.simplify_threshold: 0.1111111111111111\n",
      "path.sketch: None\n",
      "path.snap: True\n",
      "pdf.compression: 6\n",
      "pdf.fonttype: 3\n",
      "pdf.inheritcolor: False\n",
      "pdf.use14corefonts: False\n",
      "pgf.preamble: \n",
      "pgf.rcfonts: True\n",
      "pgf.texsystem: xelatex\n",
      "polaraxes.grid: True\n",
      "ps.distiller.res: 6000\n",
      "ps.fonttype: 3\n",
      "ps.papersize: letter\n",
      "ps.useafm: False\n",
      "ps.usedistiller: False\n",
      "savefig.bbox: None\n",
      "savefig.directory: ~\n",
      "savefig.dpi: figure\n",
      "savefig.edgecolor: white\n",
      "savefig.facecolor: white\n",
      "savefig.format: png\n",
      "savefig.frameon: True\n",
      "savefig.jpeg_quality: 95\n",
      "savefig.orientation: portrait\n",
      "savefig.pad_inches: 0.1\n",
      "savefig.transparent: False\n",
      "scatter.edgecolors: face\n",
      "scatter.marker: o\n",
      "svg.fonttype: path\n",
      "svg.hashsalt: None\n",
      "svg.image_inline: True\n",
      "text.antialiased: True\n",
      "text.color: black\n",
      "text.hinting: auto\n",
      "text.hinting_factor: 8\n",
      "text.latex.preamble: \n",
      "text.latex.preview: False\n",
      "text.latex.unicode: True\n",
      "text.usetex: False\n",
      "timezone: UTC\n",
      "tk.window_focus: False\n",
      "toolbar: toolbar2\n",
      "verbose.fileo: sys.stdout\n",
      "verbose.level: silent\n",
      "webagg.address: 127.0.0.1\n",
      "webagg.open_in_browser: True\n",
      "webagg.port: 8988\n",
      "webagg.port_retries: 50\n",
      "xtick.alignment: center\n",
      "xtick.bottom: True\n",
      "xtick.color: black\n",
      "xtick.direction: out\n",
      "xtick.labelbottom: True\n",
      "xtick.labelsize: medium\n",
      "xtick.labeltop: False\n",
      "xtick.major.bottom: True\n",
      "xtick.major.pad: 3.5\n",
      "xtick.major.size: 3.5\n",
      "xtick.major.top: True\n",
      "xtick.major.width: 0.8\n",
      "xtick.minor.bottom: True\n",
      "xtick.minor.pad: 3.4\n",
      "xtick.minor.size: 2.0\n",
      "xtick.minor.top: True\n",
      "xtick.minor.visible: False\n",
      "xtick.minor.width: 0.6\n",
      "xtick.top: False\n",
      "ytick.alignment: center_baseline\n",
      "ytick.color: black\n",
      "ytick.direction: out\n",
      "ytick.labelleft: True\n",
      "ytick.labelright: False\n",
      "ytick.labelsize: medium\n",
      "ytick.left: True\n",
      "ytick.major.left: True\n",
      "ytick.major.pad: 3.5\n",
      "ytick.major.right: True\n",
      "ytick.major.size: 3.5\n",
      "ytick.major.width: 0.8\n",
      "ytick.minor.left: True\n",
      "ytick.minor.pad: 3.4\n",
      "ytick.minor.right: True\n",
      "ytick.minor.size: 2.0\n",
      "ytick.minor.visible: False\n",
      "ytick.minor.width: 0.6\n",
      "ytick.right: False\n"
     ]
    }
   ],
   "source": [
    " print(plt.rcParams)"
   ]
  },
  {
   "cell_type": "code",
   "execution_count": 2,
   "metadata": {},
   "outputs": [],
   "source": [
    "filename = '../../data/basic/data.segy'"
   ]
  },
  {
   "cell_type": "code",
   "execution_count": 3,
   "metadata": {},
   "outputs": [],
   "source": [
    "seismic = segyio.tools.cube(filename)"
   ]
  },
  {
   "cell_type": "code",
   "execution_count": 4,
   "metadata": {
    "scrolled": false
   },
   "outputs": [
    {
     "data": {
      "text/plain": [
       "(651, 951, 462)"
      ]
     },
     "execution_count": 4,
     "metadata": {},
     "output_type": "execute_result"
    }
   ],
   "source": [
    "seismic.shape"
   ]
  },
  {
   "cell_type": "code",
   "execution_count": null,
   "metadata": {},
   "outputs": [],
   "source": []
  },
  {
   "cell_type": "code",
   "execution_count": null,
   "metadata": {},
   "outputs": [],
   "source": [
    "img=seismic[500,30:256+30,50:256+50]\n",
    "rotated_img = img.transpose()\n",
    "rotated_img.shape"
   ]
  },
  {
   "cell_type": "code",
   "execution_count": null,
   "metadata": {},
   "outputs": [],
   "source": [
    "fig = plt.figure()\n",
    "plt.axis('off')\n",
    "plt.imshow(rotated_img,cmap='gray_r')\n"
   ]
  },
  {
   "cell_type": "code",
   "execution_count": null,
   "metadata": {},
   "outputs": [],
   "source": [
    "fig.savefig('teste5.png', bbox_inches='tight', pad_inches=0)\n"
   ]
  },
  {
   "cell_type": "code",
   "execution_count": null,
   "metadata": {
    "scrolled": true
   },
   "outputs": [],
   "source": [
    "img=mpimg.imread('teste5.png')"
   ]
  },
  {
   "cell_type": "code",
   "execution_count": null,
   "metadata": {},
   "outputs": [],
   "source": [
    "img.shape"
   ]
  },
  {
   "cell_type": "code",
   "execution_count": null,
   "metadata": {},
   "outputs": [],
   "source": [
    "IL,XL,t=seismic.shape\n",
    "print(IL,XL,t)"
   ]
  },
  {
   "cell_type": "code",
   "execution_count": 20,
   "metadata": {},
   "outputs": [],
   "source": [
    "# loop percorrendo todas as inlines e salvando patches com o nome da IL e a posição do patche começando do canto superior esquerdo\n",
    "# ILn--> InLine number ILp --> InLine patch\n",
    "\n",
    "n_imagens=1000\n",
    "patch=256\n",
    "\n",
    "\n",
    "IL,XL,t=seismic.shape\n",
    "\n",
    "\n",
    "for i in range(n_imagens):\n",
    "\n",
    "    XLp=randint(0,(XL-patch))\n",
    "    ILp=randint(0,(IL-patch))\n",
    "    tp=randint(0,(t-patch))\n",
    "    ILn=randint(0,IL-1)\n",
    "    XLn=randint(0,XL-1)\n",
    "    secaoIL=randint(0,1)\n",
    "    \n",
    "    if secaoIL==1:\n",
    "        img=seismic[ILn,XLp:XLp+patch,tp:tp+patch]\n",
    "        rotated_img = img.transpose()\n",
    "        fig = plt.figure()\n",
    "        plt.axis('off')\n",
    "        plt.imshow(rotated_img,cmap='gray_r')\n",
    "        name='./A/ILn'+str(ILn)+'XLp'+str(XLp)+'tp'+str(tp)+'.png'\n",
    "        fig.savefig(name, bbox_inches='tight', pad_inches=0)\n",
    "        plt.close(fig)\n",
    "    else:\n",
    "        img=seismic[ILp:ILp+patch,XLn,tp:tp+patch]\n",
    "        rotated_img = img.transpose()\n",
    "        fig = plt.figure()\n",
    "        plt.axis('off')\n",
    "        plt.imshow(rotated_img,cmap='gray_r')\n",
    "        name='./A/XLn'+str(XLn)+'ILp'+str(ILp)+'tp'+str(tp)+'.png'\n",
    "        fig.savefig(name, bbox_inches='tight', pad_inches=0)\n",
    "        plt.close(fig)       \n",
    "\n",
    "\n"
   ]
  },
  {
   "cell_type": "code",
   "execution_count": null,
   "metadata": {},
   "outputs": [],
   "source": [
    "randint(0,1)"
   ]
  },
  {
   "cell_type": "raw",
   "metadata": {},
   "source": [
    " plt.close('all')"
   ]
  },
  {
   "cell_type": "code",
   "execution_count": null,
   "metadata": {},
   "outputs": [],
   "source": [
    "plt.close('all')"
   ]
  },
  {
   "cell_type": "code",
   "execution_count": null,
   "metadata": {},
   "outputs": [],
   "source": [
    "randint(0,(XL-patche))"
   ]
  },
  {
   "cell_type": "code",
   "execution_count": null,
   "metadata": {
    "scrolled": true
   },
   "outputs": [],
   "source": [
    "XL-patche+256"
   ]
  },
  {
   "cell_type": "code",
   "execution_count": null,
   "metadata": {},
   "outputs": [],
   "source": [
    "randint(0,(t-patch))"
   ]
  }
 ],
 "metadata": {
  "kernelspec": {
   "display_name": "Python 3",
   "language": "python",
   "name": "python3"
  },
  "language_info": {
   "codemirror_mode": {
    "name": "ipython",
    "version": 3
   },
   "file_extension": ".py",
   "mimetype": "text/x-python",
   "name": "python",
   "nbconvert_exporter": "python",
   "pygments_lexer": "ipython3",
   "version": "3.7.3"
  }
 },
 "nbformat": 4,
 "nbformat_minor": 2
}
