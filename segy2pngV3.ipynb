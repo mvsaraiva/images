{
 "cells": [
  {
   "cell_type": "code",
   "execution_count": 17,
   "metadata": {},
   "outputs": [
    {
     "name": "stdout",
     "output_type": "stream",
     "text": [
      "Using matplotlib backend: Qt5Agg\n"
     ]
    }
   ],
   "source": [
    "import numpy as np\n",
    "import matplotlib.pyplot as plt\n",
    "# import matplotlib.image as mpimg\n",
    "import segyio\n",
    "# from scipy import ndimage\n",
    "from random import randint\n",
    "%matplotlib"
   ]
  },
  {
   "cell_type": "code",
   "execution_count": 2,
   "metadata": {},
   "outputs": [],
   "source": [
    "plt.rcParams['figure.figsize'] = (2.56, 2.56)\n",
    "plt.rcParams['figure.dpi'] = 129.95\n"
   ]
  },
  {
   "cell_type": "code",
   "execution_count": 3,
   "metadata": {},
   "outputs": [],
   "source": [
    "filenameA = '../../data/basic/dataA.segy'\n",
    "filenameB = '../../data/basic/dataB.segy'"
   ]
  },
  {
   "cell_type": "code",
   "execution_count": 4,
   "metadata": {},
   "outputs": [],
   "source": [
    "seismic_A = segyio.tools.cube(filenameA)\n",
    "# seismic_B = segyio.tools.cube(filenameB)\n",
    "seismic_B = seismic_A"
   ]
  },
  {
   "cell_type": "code",
   "execution_count": 5,
   "metadata": {},
   "outputs": [
    {
     "name": "stdout",
     "output_type": "stream",
     "text": [
      "True\n",
      "651 951 462\n"
     ]
    }
   ],
   "source": [
    "print(seismic_A.shape==seismic_B.shape)\n",
    "\n",
    "IL,XL,t=seismic_A.shape\n",
    "print(IL,XL,t)"
   ]
  },
  {
   "cell_type": "code",
   "execution_count": 18,
   "metadata": {},
   "outputs": [],
   "source": [
    "# loop percorrendo todas as inlines e salvando patches com o nome da IL e a posição do patche começando do canto superior esquerdo\n",
    "# ILn--> InLine number ILp --> InLine patch\n",
    "\n",
    "n_imagens=10\n",
    "patch=256\n",
    "\n",
    "for i in range(n_imagens):\n",
    "\n",
    "    plt.rcParams['figure.figsize'] = (2.56, 2.56)\n",
    "    plt.rcParams['figure.dpi'] = 129.95\n",
    "    XLp=randint(0,(XL-patch))\n",
    "    ILp=randint(0,(IL-patch))\n",
    "    tp=randint(0,(t-patch))\n",
    "    ILn=randint(0,IL-1)\n",
    "    XLn=randint(0,XL-1)\n",
    "    secaoIL=randint(0,1)\n",
    "    \n",
    "    if secaoIL==1:\n",
    "#       Sismica A\n",
    "        img=seismic_A[ILn,XLp:XLp+patch,tp:tp+patch]\n",
    "        img_A = img.transpose()\n",
    "        fig = plt.figure()\n",
    "        plt.axis('off')\n",
    "        plt.imshow(img_A,cmap='gray_r')\n",
    "        name='./A/ILn'+str(ILn)+'XLp'+str(XLp)+'tp'+str(tp)+'.png'\n",
    "        fig.savefig(name, bbox_inches='tight', pad_inches=0)\n",
    "        plt.close(fig)  \n",
    "\n",
    "#       Sismica B\n",
    "        img=seismic_B[ILn,XLp:XLp+patch,tp:tp+patch]\n",
    "        img_B = img.transpose()\n",
    "        fig = plt.figure()\n",
    "        plt.axis('off')\n",
    "        plt.imshow(img_B,cmap='gray_r')\n",
    "        name='./B/ILn'+str(ILn)+'XLp'+str(XLp)+'tp'+str(tp)+'.png'\n",
    "        fig.savefig(name, bbox_inches='tight', pad_inches=0)\n",
    "        plt.close(fig)  \n",
    "        \n",
    "#       Combina A e B \n",
    "        plt.rcParams['figure.figsize'] = (5.12, 2.56)\n",
    "        img_AB = np.concatenate([img_A, img_B],1)\n",
    "        fig = plt.figure()\n",
    "        plt.axis('off')\n",
    "        plt.imshow(img_AB,cmap='gray_r')\n",
    "        name='./AB/ILn'+str(ILn)+'XLp'+str(XLp)+'tp'+str(tp)+'.png'\n",
    "        fig.savefig(name, bbox_inches='tight', pad_inches=0)\n",
    "        plt.close(fig)       \n",
    "\n",
    "\n",
    "    else:\n",
    "#       Sismica A\n",
    "        img=seismic_A[ILp:ILp+patch,XLn,tp:tp+patch]\n",
    "        img_A = img.transpose()\n",
    "        fig = plt.figure()\n",
    "        plt.axis('off')\n",
    "        plt.imshow(img_A,cmap='gray_r')\n",
    "        name='./A/XLn'+str(XLn)+'ILp'+str(ILp)+'tp'+str(tp)+'.png'\n",
    "        fig.savefig(name, bbox_inches='tight', pad_inches=0)\n",
    "        plt.close(fig)  \n",
    "        \n",
    "#       Sismica B        \n",
    "        img=seismic_B[ILp:ILp+patch,XLn,tp:tp+patch]\n",
    "        img_B = img.transpose()\n",
    "        fig = plt.figure()\n",
    "        plt.axis('off')\n",
    "        plt.imshow(img_B,cmap='gray_r')\n",
    "        name='./B/XLn'+str(XLn)+'ILp'+str(ILp)+'tp'+str(tp)+'.png'\n",
    "        fig.savefig(name, bbox_inches='tight', pad_inches=0)\n",
    "        plt.close(fig)  \n",
    "        \n",
    "#       Combina A e B \n",
    "        plt.rcParams['figure.figsize'] = (5.12, 2.56)\n",
    "        img_AB = np.concatenate([img_A, img_B],1)\n",
    "        fig = plt.figure()\n",
    "        plt.axis('off')\n",
    "        plt.imshow(img_AB,cmap='gray_r')\n",
    "        name='./AB/XLn'+str(XLn)+'ILp'+str(ILp)+'tp'+str(tp)+'.png'\n",
    "        fig.savefig(name, bbox_inches='tight', pad_inches=0)\n",
    "        plt.close(fig)       \n",
    "\n",
    "\n",
    "      \n",
    "\n",
    "        \n",
    "        \n",
    "\n",
    "\n"
   ]
  },
  {
   "cell_type": "code",
   "execution_count": null,
   "metadata": {},
   "outputs": [],
   "source": []
  },
  {
   "cell_type": "code",
   "execution_count": null,
   "metadata": {},
   "outputs": [],
   "source": []
  }
 ],
 "metadata": {
  "kernelspec": {
   "display_name": "Python 3",
   "language": "python",
   "name": "python3"
  },
  "language_info": {
   "codemirror_mode": {
    "name": "ipython",
    "version": 3
   },
   "file_extension": ".py",
   "mimetype": "text/x-python",
   "name": "python",
   "nbconvert_exporter": "python",
   "pygments_lexer": "ipython3",
   "version": "3.7.3"
  }
 },
 "nbformat": 4,
 "nbformat_minor": 2
}
