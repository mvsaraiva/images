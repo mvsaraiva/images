{
 "cells": [
  {
   "cell_type": "code",
   "execution_count": 64,
   "metadata": {},
   "outputs": [
    {
     "name": "stdout",
     "output_type": "stream",
     "text": [
      "Using matplotlib backend: Qt5Agg\n"
     ]
    }
   ],
   "source": [
    "import numpy as np\n",
    "import matplotlib.pyplot as plt\n",
    "import matplotlib.image as mpimg\n",
    "from sklearn import preprocessing\n",
    "import segyio\n",
    "from random import randint\n",
    "import os, os.path\n",
    "import re \n",
    "%matplotlib"
   ]
  },
  {
   "cell_type": "code",
   "execution_count": null,
   "metadata": {},
   "outputs": [],
   "source": [
    "plt.rcParams['figure.figsize'] = (2.56, 2.56)\n",
    "plt.rcParams['figure.dpi'] = 129.95\n"
   ]
  },
  {
   "cell_type": "code",
   "execution_count": null,
   "metadata": {},
   "outputs": [],
   "source": [
    "filenameA = '../../data/basic/dataA.segy'\n",
    "filenameB = '../../data/basic/dataB.segy'"
   ]
  },
  {
   "cell_type": "code",
   "execution_count": null,
   "metadata": {},
   "outputs": [],
   "source": [
    "seismic_A = segyio.tools.cube(filenameA)\n",
    "# seismic_B = segyio.tools.cube(filenameB)\n",
    "seismic_B = seismic_A"
   ]
  },
  {
   "cell_type": "code",
   "execution_count": null,
   "metadata": {},
   "outputs": [],
   "source": [
    "print(seismic_A.shape==seismic_B.shape)\n",
    "\n",
    "IL,XL,t=seismic_A.shape\n",
    "print(IL,XL,t)"
   ]
  },
  {
   "cell_type": "code",
   "execution_count": null,
   "metadata": {},
   "outputs": [],
   "source": [
    "# Gera pares de imagens aleatoreamente amostradas nos volumes sismicos para treinamento da GAN pix2pix\n",
    "# loop percorrendo todas as inlines e salvando patches com o nome da IL e a posição do patche começando do canto superior esquerdo\n",
    "# ILn--> InLine number ILp --> InLine patch\n",
    "\n",
    "n_imagens=10\n",
    "patch=256\n",
    "\n",
    "for i in range(n_imagens):\n",
    "\n",
    "    plt.rcParams['figure.figsize'] = (2.56, 2.56)\n",
    "    plt.rcParams['figure.dpi'] = 129.95\n",
    "    XLp=randint(0,(XL-patch))\n",
    "    ILp=randint(0,(IL-patch))\n",
    "    tp=randint(0,(t-patch))\n",
    "    ILn=randint(0,IL-1)\n",
    "    XLn=randint(0,XL-1)\n",
    "    secaoIL=randint(0,1)\n",
    "    \n",
    "    if secaoIL==1:\n",
    "#       Sismica A\n",
    "        img=seismic_A[ILn,XLp:XLp+patch,tp:tp+patch]\n",
    "        img_A = img.transpose()\n",
    "        fig = plt.figure()\n",
    "        plt.axis('off')\n",
    "        plt.imshow(img_A,cmap='gray_r')\n",
    "        name='./A/ILn'+str(ILn)+'XLp'+str(XLp)+'tp'+str(tp)+'.png'\n",
    "        fig.savefig(name, bbox_inches='tight', pad_inches=0)\n",
    "        plt.close(fig)  \n",
    "\n",
    "#       Sismica B\n",
    "        img=seismic_B[ILn,XLp:XLp+patch,tp:tp+patch]\n",
    "        img_B = img.transpose()\n",
    "        fig = plt.figure()\n",
    "        plt.axis('off')\n",
    "        plt.imshow(img_B,cmap='gray_r')\n",
    "        name='./B/ILn'+str(ILn)+'XLp'+str(XLp)+'tp'+str(tp)+'.png'\n",
    "        fig.savefig(name, bbox_inches='tight', pad_inches=0)\n",
    "        plt.close(fig)  \n",
    "        \n",
    "#       Combina A e B \n",
    "        plt.rcParams['figure.figsize'] = (5.12, 2.56)\n",
    "        img_AB = np.concatenate([img_A, img_B],1)\n",
    "        fig = plt.figure()\n",
    "        plt.axis('off')\n",
    "        plt.imshow(img_AB,cmap='gray_r')\n",
    "        name='./AB/ILn'+str(ILn)+'XLp'+str(XLp)+'tp'+str(tp)+'.png'\n",
    "        fig.savefig(name, bbox_inches='tight', pad_inches=0)\n",
    "        plt.close(fig)       \n",
    "\n",
    "\n",
    "    else:\n",
    "#       Sismica A\n",
    "        img=seismic_A[ILp:ILp+patch,XLn,tp:tp+patch]\n",
    "        img_A = img.transpose()\n",
    "        fig = plt.figure()\n",
    "        plt.axis('off')\n",
    "        plt.imshow(img_A,cmap='gray_r')\n",
    "        name='./A/XLn'+str(XLn)+'ILp'+str(ILp)+'tp'+str(tp)+'.png'\n",
    "        fig.savefig(name, bbox_inches='tight', pad_inches=0)\n",
    "        plt.close(fig)  \n",
    "        \n",
    "#       Sismica B        \n",
    "        img=seismic_B[ILp:ILp+patch,XLn,tp:tp+patch]\n",
    "        img_B = img.transpose()\n",
    "        fig = plt.figure()\n",
    "        plt.axis('off')\n",
    "        plt.imshow(img_B,cmap='gray_r')\n",
    "        name='./B/XLn'+str(XLn)+'ILp'+str(ILp)+'tp'+str(tp)+'.png'\n",
    "        fig.savefig(name, bbox_inches='tight', pad_inches=0)\n",
    "        plt.close(fig)  \n",
    "        \n",
    "#       Combina A e B \n",
    "        plt.rcParams['figure.figsize'] = (5.12, 2.56)\n",
    "        img_AB = np.concatenate([img_A, img_B],1)\n",
    "        fig = plt.figure()\n",
    "        plt.axis('off')\n",
    "        plt.imshow(img_AB,cmap='gray_r')\n",
    "        name='./AB/XLn'+str(XLn)+'ILp'+str(ILp)+'tp'+str(tp)+'.png'\n",
    "        fig.savefig(name, bbox_inches='tight', pad_inches=0)\n",
    "        plt.close(fig)       \n",
    "\n",
    "\n",
    "      \n",
    "\n",
    "        \n",
    "        \n",
    "\n",
    "\n"
   ]
  },
  {
   "cell_type": "code",
   "execution_count": 71,
   "metadata": {},
   "outputs": [
    {
     "name": "stdout",
     "output_type": "stream",
     "text": [
      "651 951 462 0.499989 1.0 0.0\n"
     ]
    }
   ],
   "source": [
    "# Lê segy e gera figuras ordenadas para teste\n",
    "# filename_test = '../../data/basic/dataA.segy'\n",
    "# seismic_test = segyio.tools.cube(filename_test)\n",
    "# seismic_scale=(seismic_test+32767.0)\n",
    "seismic_scale=seismic_scale/seismic_scale.max()\n",
    "IL,XL,t=seismic_test.shape\n",
    "print(IL,XL,t,seismic_scale.mean(),seismic_scale.max(),seismic_scale.min())\n"
   ]
  },
  {
   "cell_type": "code",
   "execution_count": 72,
   "metadata": {},
   "outputs": [],
   "source": [
    "seismic_test=seismic_scale"
   ]
  },
  {
   "cell_type": "code",
   "execution_count": 73,
   "metadata": {},
   "outputs": [],
   "source": [
    "# Escolha a IL:\n",
    "ILn=300\n",
    "p=50\n",
    "npIL=XL//p #numero de patches por IL\n",
    "npt=t//p #numero de patches por t\n",
    "plt.rcParams['figure.figsize'] = (2.56, 2.56)\n",
    "plt.rcParams['figure.dpi'] = 129.95\n",
    "v0=0\n",
    "v1=p\n",
    "for i in range (npt):\n",
    "    h0=0\n",
    "    h1=p\n",
    "    for k in range (npIL):\n",
    "        img=seismic_test[ILn,h0:h1,v0:v1]\n",
    "        img_test = img.transpose()\n",
    "        fig = plt.figure()\n",
    "        plt.axis('off')\n",
    "        plt.imshow(img_test,cmap='gray_r')\n",
    "        name='./test/ILn'+str(ILn)+'XLp'+str(i)+'tp'+str(k)+'.png'\n",
    "        fig.savefig(name, bbox_inches='tight', pad_inches=0)\n",
    "        plt.close(fig)  \n",
    "        h0+=p\n",
    "        h1+=p       \n",
    "    v1+=p\n",
    "    v0+=p   \n",
    "   \n"
   ]
  },
  {
   "cell_type": "code",
   "execution_count": 74,
   "metadata": {
    "scrolled": false
   },
   "outputs": [],
   "source": [
    "# Reconstruindo a imagem a partir dos patches\n",
    "p=256\n",
    "\n",
    "IL_output= np.zeros([npt*p,npIL*p,4])\n",
    "\n",
    "path = \"./test/\"\n",
    "valid_images = [\".jpg\",\".gif\",\".png\",\".tga\"]\n",
    "dire=os.listdir(path)\n",
    "dire.sort()\n",
    "x0=0\n",
    "x1=0\n",
    "t0=0\n",
    "t1=0\n",
    "for filename in dire:\n",
    "    ext = os.path.splitext(filename)[1] \n",
    "    if ext.lower() in valid_images:\n",
    "        numbers =re.findall('\\d+',filename)\n",
    "        XLp=int(numbers[1])\n",
    "        tp=int(numbers[2])\n",
    "        x0=(p*XLp)\n",
    "        x1=p+(p*XLp)\n",
    "        t0=(p*tp)\n",
    "        t1=p+(p*tp)\n",
    "        IL_output[x0:x1,t0:t1,:]=mpimg.imread(path+filename)\n",
    "        \n",
    "\n",
    "#         print(XLp,tp,x0,x1,t0,t1)\n",
    "plt.rcParams['figure.figsize'] = (14, 8)\n",
    "plt.rcParams['figure.dpi'] = 300.0\n",
    "fig = plt.figure()\n",
    "plt.axis('off')\n",
    "plt.imshow(IL_output,cmap='gray_r')\n",
    "name='./OUT/ILn_out'+str(ILn)+'.png'\n",
    "fig.savefig(name, bbox_inches='tight', pad_inches=0)\n",
    "plt.close(fig)          "
   ]
  },
  {
   "cell_type": "code",
   "execution_count": null,
   "metadata": {},
   "outputs": [],
   "source": [
    "x=mpimg.imread(path+filename)\n",
    "x.shape"
   ]
  },
  {
   "cell_type": "code",
   "execution_count": 20,
   "metadata": {},
   "outputs": [],
   "source": [
    "import re \n",
    "numbers = re.findall('\\d+',filename)"
   ]
  },
  {
   "cell_type": "code",
   "execution_count": 43,
   "metadata": {},
   "outputs": [
    {
     "data": {
      "text/plain": [
       "(256, 256, 4)"
      ]
     },
     "execution_count": 43,
     "metadata": {},
     "output_type": "execute_result"
    }
   ],
   "source": [
    "a=IL_output[2560:2816,0:256,:]\n",
    "a.shape"
   ]
  },
  {
   "cell_type": "code",
   "execution_count": 49,
   "metadata": {},
   "outputs": [
    {
     "data": {
      "text/plain": [
       "['300']"
      ]
     },
     "execution_count": 49,
     "metadata": {},
     "output_type": "execute_result"
    }
   ],
   "source": [
    "numbers"
   ]
  },
  {
   "cell_type": "code",
   "execution_count": 63,
   "metadata": {},
   "outputs": [
    {
     "data": {
      "text/plain": [
       "array([[[0.4627451 , 0.4627451 , 0.4627451 , 1.        ],\n",
       "        [0.4627451 , 0.4627451 , 0.4627451 , 1.        ],\n",
       "        [0.4627451 , 0.4627451 , 0.4627451 , 1.        ],\n",
       "        ...,\n",
       "        [0.33333334, 0.33333334, 0.33333334, 1.        ],\n",
       "        [0.33333334, 0.33333334, 0.33333334, 1.        ],\n",
       "        [0.33333334, 0.33333334, 0.33333334, 1.        ]],\n",
       "\n",
       "       [[0.4627451 , 0.4627451 , 0.4627451 , 1.        ],\n",
       "        [0.4627451 , 0.4627451 , 0.4627451 , 1.        ],\n",
       "        [0.4627451 , 0.4627451 , 0.4627451 , 1.        ],\n",
       "        ...,\n",
       "        [0.33333334, 0.33333334, 0.33333334, 1.        ],\n",
       "        [0.33333334, 0.33333334, 0.33333334, 1.        ],\n",
       "        [0.33333334, 0.33333334, 0.33333334, 1.        ]],\n",
       "\n",
       "       [[0.4627451 , 0.4627451 , 0.4627451 , 1.        ],\n",
       "        [0.4627451 , 0.4627451 , 0.4627451 , 1.        ],\n",
       "        [0.4627451 , 0.4627451 , 0.4627451 , 1.        ],\n",
       "        ...,\n",
       "        [0.33333334, 0.33333334, 0.33333334, 1.        ],\n",
       "        [0.33333334, 0.33333334, 0.33333334, 1.        ],\n",
       "        [0.33333334, 0.33333334, 0.33333334, 1.        ]],\n",
       "\n",
       "       ...,\n",
       "\n",
       "       [[0.43137255, 0.43137255, 0.43137255, 1.        ],\n",
       "        [0.43137255, 0.43137255, 0.43137255, 1.        ],\n",
       "        [0.43137255, 0.43137255, 0.43137255, 1.        ],\n",
       "        ...,\n",
       "        [0.44313726, 0.44313726, 0.44313726, 1.        ],\n",
       "        [0.44313726, 0.44313726, 0.44313726, 1.        ],\n",
       "        [0.44313726, 0.44313726, 0.44313726, 1.        ]],\n",
       "\n",
       "       [[0.43137255, 0.43137255, 0.43137255, 1.        ],\n",
       "        [0.43137255, 0.43137255, 0.43137255, 1.        ],\n",
       "        [0.43137255, 0.43137255, 0.43137255, 1.        ],\n",
       "        ...,\n",
       "        [0.44313726, 0.44313726, 0.44313726, 1.        ],\n",
       "        [0.44313726, 0.44313726, 0.44313726, 1.        ],\n",
       "        [0.44313726, 0.44313726, 0.44313726, 1.        ]],\n",
       "\n",
       "       [[0.43137255, 0.43137255, 0.43137255, 1.        ],\n",
       "        [0.43137255, 0.43137255, 0.43137255, 1.        ],\n",
       "        [0.43137255, 0.43137255, 0.43137255, 1.        ],\n",
       "        ...,\n",
       "        [0.44313726, 0.44313726, 0.44313726, 1.        ],\n",
       "        [0.44313726, 0.44313726, 0.44313726, 1.        ],\n",
       "        [0.44313726, 0.44313726, 0.44313726, 1.        ]]], dtype=float32)"
      ]
     },
     "execution_count": 63,
     "metadata": {},
     "output_type": "execute_result"
    }
   ],
   "source": [
    "mpimg.imread(path+filename)"
   ]
  }
 ],
 "metadata": {
  "kernelspec": {
   "display_name": "Python 3",
   "language": "python",
   "name": "python3"
  },
  "language_info": {
   "codemirror_mode": {
    "name": "ipython",
    "version": 3
   },
   "file_extension": ".py",
   "mimetype": "text/x-python",
   "name": "python",
   "nbconvert_exporter": "python",
   "pygments_lexer": "ipython3",
   "version": "3.7.3"
  }
 },
 "nbformat": 4,
 "nbformat_minor": 2
}
