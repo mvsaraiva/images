{
 "cells": [
  {
   "cell_type": "code",
   "execution_count": null,
   "metadata": {},
   "outputs": [],
   "source": [
    "import numpy as np\n",
    "import cv2"
   ]
  },
  {
   "cell_type": "code",
   "execution_count": null,
   "metadata": {},
   "outputs": [],
   "source": [
    "a=0\n",
    "for d in range(1930, 2320, 50):\n",
    "   \n",
    "    filename = \"./CNN/semblance/c_sec1930%d.jpeg\"%d\n",
    "    img=cv2.imread(filename) \n",
    "    fatia = img[165:1083,101:3032]\n",
    "    cv2.imshow(\"Fatia da imagem\", img)\n",
    "    filename = \".#/CNN/semblance/c_sec1930%dA.jpeg\"%d\n",
    "    cv2.imwrite(filename, fatia)    \n",
    "    cv2.waitKey(0)\n",
    "    v0=100\n",
    "    v1=356\n",
    "   "
   ]
  },
  {
   "cell_type": "code",
   "execution_count": null,
   "metadata": {},
   "outputs": [],
   "source": [
    " for v in range(1,4):\n",
    "        h0=0\n",
    "        h1=256\n",
    "        for h in range(1,12):\n",
    "            a+=1\n",
    "            crop_name=\"./CNN/semblance/C/\"+str(a)+\".jpeg\"           \n",
    "            fatia=img[v0:v1,h0:h1]\n",
    "            h0+=256\n",
    "            h1+=256\n",
    "            cv2.imwrite(crop_name, fatia) \n",
    "            cv2.waitKey(0)\n",
    "        v1+=256\n",
    "        v0+=256"
   ]
  },
  {
   "cell_type": "code",
   "execution_count": null,
   "metadata": {},
   "outputs": [],
   "source": [
    "type(img)"
   ]
  }
 ],
 "metadata": {
  "kernelspec": {
   "display_name": "Python 3",
   "language": "python",
   "name": "python3"
  },
  "language_info": {
   "codemirror_mode": {
    "name": "ipython",
    "version": 3
   },
   "file_extension": ".py",
   "mimetype": "text/x-python",
   "name": "python",
   "nbconvert_exporter": "python",
   "pygments_lexer": "ipython3",
   "version": "3.5.6"
  }
 },
 "nbformat": 4,
 "nbformat_minor": 2
}
